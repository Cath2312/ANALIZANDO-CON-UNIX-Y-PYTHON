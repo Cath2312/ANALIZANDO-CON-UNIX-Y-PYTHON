{
 "cells": [
  {
   "cell_type": "markdown",
   "id": "f5e47ddd-5684-4232-a00d-a28e05ee6fde",
   "metadata": {},
   "source": [
    "## Análisis de Calificaciones\n",
    "\n",
    "Aquí hay un ejemplo de cómo se ven las calificaciones extraídas:"
   ]
  },
  {
   "cell_type": "code",
   "execution_count": 3,
   "id": "edc89eb2-7e2d-4948-96bb-5753740dd622",
   "metadata": {},
   "outputs": [
    {
     "ename": "NameError",
     "evalue": "name 'neg_ratings_file' is not defined",
     "output_type": "error",
     "traceback": [
      "\u001b[0;31m---------------------------------------------------------------------------\u001b[0m",
      "\u001b[0;31mNameError\u001b[0m                                 Traceback (most recent call last)",
      "Cell \u001b[0;32mIn[3], line 1\u001b[0m\n\u001b[0;32m----> 1\u001b[0m \u001b[38;5;28;01mwith\u001b[39;00m \u001b[38;5;28mopen\u001b[39m(\u001b[43mneg_ratings_file\u001b[49m) \u001b[38;5;28;01mas\u001b[39;00m f:\n\u001b[1;32m      2\u001b[0m     \u001b[38;5;28mprint\u001b[39m(f\u001b[38;5;241m.\u001b[39mreadlines()[:\u001b[38;5;241m5\u001b[39m])\n",
      "\u001b[0;31mNameError\u001b[0m: name 'neg_ratings_file' is not defined"
     ]
    }
   ],
   "source": [
    "with open(neg_ratings_file) as f:\n",
    "    print(f.readlines()[:5])"
   ]
  },
  {
   "cell_type": "code",
   "execution_count": null,
   "id": "13080b43-bb1e-4aa1-9331-a8495d11cc49",
   "metadata": {},
   "outputs": [],
   "source": []
  },
  {
   "cell_type": "code",
   "execution_count": null,
   "id": "4ee80718-50a6-42b3-8567-302358bc4262",
   "metadata": {},
   "outputs": [],
   "source": []
  }
 ],
 "metadata": {
  "kernelspec": {
   "display_name": "Python 3 (ipykernel)",
   "language": "python",
   "name": "python3"
  },
  "language_info": {
   "codemirror_mode": {
    "name": "ipython",
    "version": 3
   },
   "file_extension": ".py",
   "mimetype": "text/x-python",
   "name": "python",
   "nbconvert_exporter": "python",
   "pygments_lexer": "ipython3",
   "version": "3.11.6"
  }
 },
 "nbformat": 4,
 "nbformat_minor": 5
}
