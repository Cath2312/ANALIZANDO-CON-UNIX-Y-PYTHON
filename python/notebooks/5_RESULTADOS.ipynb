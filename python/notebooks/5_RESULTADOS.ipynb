{
 "cells": [
  {
   "cell_type": "markdown",
   "id": "f5e47ddd-5684-4232-a00d-a28e05ee6fde",
   "metadata": {},
   "source": [
    "## Análisis de Calificaciones\n",
    "\n",
    "Ahora combinaremos las URLs y calificaciones y calcularemos las calificaciones promedio.\n"
   ]
  },
  {
   "cell_type": "code",
   "execution_count": 5,
   "id": "3d73439e-f5b3-4d2a-a86a-0a757258472e",
   "metadata": {},
   "outputs": [],
   "source": [
    "neg_ratings_file = './train/neg_ratings.txt'\n",
    "pos_ratings_file = './train/pos_ratings.txt'\n",
    "combined_pos_file = './train/combined_pos.txt'\n",
    "combined_neg_file = './train/combined_neg.txt'"
   ]
  },
  {
   "cell_type": "code",
   "execution_count": 10,
   "id": "edc89eb2-7e2d-4948-96bb-5753740dd622",
   "metadata": {},
   "outputs": [
    {
     "name": "stdout",
     "output_type": "stream",
     "text": [
      "URLs y calificaciones combinadas y guardadas en ./train/combined_pos.txt\n",
      "URLs y calificaciones combinadas y guardadas en ./train/combined_neg.txt\n",
      "Calificaciones promedio guardadas en ./train/average_pos.txt\n",
      "Calificaciones promedio guardadas en ./train/average_neg.txt\n"
     ]
    }
   ],
   "source": [
    "from imdb.url_rating_combiner import combine_urls_and_ratings\n",
    "from imdb.rating_averager import average_ratings\n",
    "\n",
    "combine_urls_and_ratings('./aclImdb/train/urls_pos.txt', pos_ratings_file, './train/combined_pos.txt')\n",
    "combine_urls_and_ratings('./aclImdb/train/urls_neg.txt', neg_ratings_file, './train/combined_neg.txt')\n",
    "\n",
    "average_ratings('./train/combined_pos.txt', './train/average_pos.txt')\n",
    "average_ratings('./train/combined_neg.txt', './train/average_neg.txt')"
   ]
  }
 ],
 "metadata": {
  "kernelspec": {
   "display_name": "Python 3 (ipykernel)",
   "language": "python",
   "name": "python3"
  },
  "language_info": {
   "codemirror_mode": {
    "name": "ipython",
    "version": 3
   },
   "file_extension": ".py",
   "mimetype": "text/x-python",
   "name": "python",
   "nbconvert_exporter": "python",
   "pygments_lexer": "ipython3",
   "version": "3.11.6"
  }
 },
 "nbformat": 4,
 "nbformat_minor": 5
}
