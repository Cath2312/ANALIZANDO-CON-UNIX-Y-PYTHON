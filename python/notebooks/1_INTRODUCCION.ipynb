{
 "cells": [
  {
   "cell_type": "markdown",
   "id": "5fb3fa8c-8121-47cd-9d36-d12e557f1818",
   "metadata": {},
   "source": [
    "# Este proyecto tiene como objetivo analizar la base de datos de películas de IMDb, extrayendo las calificaciones de las reseñas para identificar las 10 mejores y peores películas. Usaremos dos enfoques: comandos de UNIX y programación en Python, comparando ambos métodos.\n"
   ]
  },
  {
   "cell_type": "markdown",
   "id": "3362673f-761c-4cc2-9033-47a057461442",
   "metadata": {},
   "source": [
    "# Configuración del Entorno\n",
    "Para comenzar, asegúrate de tener `poetry` instalado. Puedes instalarlo siguiendo las instrucciones en [la documentación de Poetry](https://python-poetry.org/docs/#installation).\n",
    "\n",
    "## Instalación de Dependencias\n",
    "Ejecuta el siguiente comando en la terminal para instalar las dependencias necesarias:"
   ]
  },
  {
   "cell_type": "code",
   "execution_count": null,
   "id": "568946a3-dc12-4061-8832-5959c9346890",
   "metadata": {},
   "outputs": [],
   "source": [
    "poetry install"
   ]
  }
 ],
 "metadata": {
  "kernelspec": {
   "display_name": "Python 3 (ipykernel)",
   "language": "python",
   "name": "python3"
  },
  "language_info": {
   "codemirror_mode": {
    "name": "ipython",
    "version": 3
   },
   "file_extension": ".py",
   "mimetype": "text/x-python",
   "name": "python",
   "nbconvert_exporter": "python",
   "pygments_lexer": "ipython3",
   "version": "3.11.6"
  }
 },
 "nbformat": 4,
 "nbformat_minor": 5
}
