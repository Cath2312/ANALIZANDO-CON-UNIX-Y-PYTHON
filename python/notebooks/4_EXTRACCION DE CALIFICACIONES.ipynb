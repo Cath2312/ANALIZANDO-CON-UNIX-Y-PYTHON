{
 "cells": [
  {
   "cell_type": "markdown",
   "id": "5160af9f-e095-4864-bfd5-4510f1e20a64",
   "metadata": {},
   "source": [
    "## Extracción de Calificaciones\n",
    "Usaremos las funciones para extraer calificaciones de los archivos de texto."
   ]
  },
  {
   "cell_type": "code",
   "execution_count": 3,
   "id": "670c98be-9be6-46bd-83f8-06628a72d951",
   "metadata": {},
   "outputs": [
    {
     "name": "stdout",
     "output_type": "stream",
     "text": [
      "Calificaciones extraídas y guardadas en ./train/neg_ratings.txt\n",
      "Calificaciones extraídas y guardadas en ./train/pos_ratings.txt\n"
     ]
    }
   ],
   "source": [
    "from imdb.rating_extractor import extract_ratings_from_files\n",
    "\n",
    "neg_ratings_file = './train/neg_ratings.txt'\n",
    "pos_ratings_file = './train/pos_ratings.txt'\n",
    "\n",
    "extract_ratings_from_files('aclImdb/train/neg', neg_ratings_file)\n",
    "extract_ratings_from_files('aclImdb/train/pos', pos_ratings_file)"
   ]
  }
 ],
 "metadata": {
  "kernelspec": {
   "display_name": "Python 3 (ipykernel)",
   "language": "python",
   "name": "python3"
  },
  "language_info": {
   "codemirror_mode": {
    "name": "ipython",
    "version": 3
   },
   "file_extension": ".py",
   "mimetype": "text/x-python",
   "name": "python",
   "nbconvert_exporter": "python",
   "pygments_lexer": "ipython3",
   "version": "3.11.6"
  }
 },
 "nbformat": 4,
 "nbformat_minor": 5
}
