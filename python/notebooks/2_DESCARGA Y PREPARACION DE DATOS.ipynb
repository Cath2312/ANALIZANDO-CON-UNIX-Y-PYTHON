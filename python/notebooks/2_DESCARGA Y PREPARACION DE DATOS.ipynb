{
 "cells": [
  {
   "cell_type": "markdown",
   "id": "0c64b25e-47a7-4bd3-b22b-d88af22e25b3",
   "metadata": {},
   "source": [
    "## Descarga y Preparación de Datos\n",
    "\n",
    "Usaremos el siguiente script para descargar y descomprimir los datos de IMDb.\n"
   ]
  },
  {
   "cell_type": "code",
   "execution_count": null,
   "id": "8941a871-ec83-4f6f-9388-14bd609db21f",
   "metadata": {},
   "outputs": [
    {
     "name": "stdout",
     "output_type": "stream",
     "text": [
      "Archivo descargado: aclImdb_v1.tar.gz\n"
     ]
    }
   ],
   "source": [
    "import sys\n",
    "import os\n",
    "from imdb.downloader import download_file\n",
    "from imdb.extractor import extract_file\n",
    "\n",
    "url = 'https://ai.stanford.edu/~amaas/data/sentiment/aclImdb_v1.tar.gz'\n",
    "destination = 'aclImdb_v1.tar.gz'\n",
    "\n",
    "download_file(url, destination)\n",
    "extract_file(destination, 'temp_aclImdb')"
   ]
  }
 ],
 "metadata": {
  "kernelspec": {
   "display_name": "Python 3 (ipykernel)",
   "language": "python",
   "name": "python3"
  },
  "language_info": {
   "codemirror_mode": {
    "name": "ipython",
    "version": 3
   },
   "file_extension": ".py",
   "mimetype": "text/x-python",
   "name": "python",
   "nbconvert_exporter": "python",
   "pygments_lexer": "ipython3",
   "version": "3.11.6"
  }
 },
 "nbformat": 4,
 "nbformat_minor": 5
}
